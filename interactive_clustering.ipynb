{
 "nbformat": 4,
 "nbformat_minor": 0,
 "metadata": {
  "colab": {
   "name": "interactive_clustering.ipynb",
   "provenance": [],
   "collapsed_sections": []
  },
  "kernelspec": {
   "name": "python3",
   "display_name": "Python 3"
  },
  "accelerator": "GPU"
 },
 "cells": [
  {
   "cell_type": "code",
   "metadata": {
    "colab": {
     "base_uri": "https://localhost:8080/"
    },
    "id": "YwMKjGVcq2xy",
    "outputId": "e34eb1d4-922e-48b5-9fb3-670ae8a4e4c2"
   },
   "source": [
    "!pip install streamlit -q\n",
    "!pip install pyngrok -q\n",
    "# https://medium.com/@jcharistech/how-to-run-streamlit-apps-from-colab-29b969a1bdfc"
   ],
   "execution_count": 1,
   "outputs": [
    {
     "output_type": "stream",
     "text": [
      "\u001B[K     |████████████████████████████████| 7.4MB 5.4MB/s \n",
      "\u001B[K     |████████████████████████████████| 6.9MB 36.7MB/s \n",
      "\u001B[K     |████████████████████████████████| 102kB 10.7MB/s \n",
      "\u001B[K     |████████████████████████████████| 163kB 44.7MB/s \n",
      "\u001B[K     |████████████████████████████████| 133kB 45.3MB/s \n",
      "\u001B[K     |████████████████████████████████| 4.5MB 40.8MB/s \n",
      "\u001B[K     |████████████████████████████████| 112kB 40.9MB/s \n",
      "\u001B[K     |████████████████████████████████| 143kB 43.3MB/s \n",
      "\u001B[K     |████████████████████████████████| 71kB 9.4MB/s \n",
      "\u001B[K     |████████████████████████████████| 71kB 7.4MB/s \n",
      "\u001B[K     |████████████████████████████████| 122kB 47.5MB/s \n",
      "\u001B[?25h  Building wheel for watchdog (setup.py) ... \u001B[?25l\u001B[?25hdone\n",
      "  Building wheel for blinker (setup.py) ... \u001B[?25l\u001B[?25hdone\n",
      "  Building wheel for pathtools (setup.py) ... \u001B[?25l\u001B[?25hdone\n",
      "\u001B[31mERROR: requests 2.23.0 has requirement urllib3!=1.25.0,!=1.25.1,<1.26,>=1.21.1, but you'll have urllib3 1.26.2 which is incompatible.\u001B[0m\n",
      "\u001B[31mERROR: google-colab 1.0.0 has requirement ipykernel~=4.10, but you'll have ipykernel 5.3.4 which is incompatible.\u001B[0m\n",
      "\u001B[31mERROR: datascience 0.10.6 has requirement folium==0.2.1, but you'll have folium 0.8.3 which is incompatible.\u001B[0m\n",
      "  Building wheel for pyngrok (setup.py) ... \u001B[?25l\u001B[?25hdone\n"
     ],
     "name": "stdout"
    }
   ]
  },
  {
   "cell_type": "code",
   "metadata": {
    "colab": {
     "base_uri": "https://localhost:8080/"
    },
    "id": "ODTia67arYgE",
    "outputId": "069e2d31-18c7-4b5b-c67c-0203c84bf8b7"
   },
   "source": [
    "from google.colab import drive\n",
    "drive.mount('/content/drive')\n",
    "\n",
    "import sys\n",
    "sys.path.insert(0,'/content/drive/My Drive/Projects/CAPTAIN_VICOMTECH/InteractiveClusteringTool')"
   ],
   "execution_count": 2,
   "outputs": [
    {
     "output_type": "stream",
     "text": [
      "Mounted at /content/drive\n"
     ],
     "name": "stdout"
    }
   ]
  },
  {
   "cell_type": "code",
   "metadata": {
    "id": "eUSdn_VXrrcO"
   },
   "source": [
    "!streamlit run '/content/drive/My Drive/Projects/CAPTAIN_VICOMTECH/InteractiveClusteringTool/main.py' &>/dev/null&\n"
   ],
   "execution_count": 10,
   "outputs": []
  },
  {
   "cell_type": "code",
   "metadata": {
    "colab": {
     "base_uri": "https://localhost:8080/"
    },
    "id": "n5UZihmevDB1",
    "outputId": "aeae7862-48a5-4f21-e1fb-dedf486c267c"
   },
   "source": [
    "from pyngrok import ngrok\n",
    "# Setup a tunnel to the streamlit port 8501\n",
    "public_url = ngrok.connect(8501)\n",
    "public_url"
   ],
   "execution_count": 11,
   "outputs": [
    {
     "output_type": "execute_result",
     "data": {
      "text/plain": [
       "<NgrokTunnel: \"http://aa6b3e8a929b.ngrok.io\" -> \"http://localhost:8501\">"
      ]
     },
     "metadata": {
      "tags": []
     },
     "execution_count": 11
    }
   ]
  },
  {
   "cell_type": "code",
   "metadata": {
    "id": "p810V7e8v8GG"
   },
   "source": [
    "# Destroy tunnel\n",
    "tunnels = ngrok.get_tunnels()\n",
    "for tunnel in tunnels:\n",
    "  ngrok.disconnect(tunnel.public_url)\n",
    "ngrok.kill()"
   ],
   "execution_count": 8,
   "outputs": []
  },
  {
   "cell_type": "code",
   "metadata": {
    "colab": {
     "base_uri": "https://localhost:8080/"
    },
    "id": "y6rvF9xUw5DG",
    "outputId": "d5c5d67e-3815-412f-90d3-8c0f1161910a"
   },
   "source": [
    "# Kill streamlit processes\n",
    "stream_lit_processes = !pgrep streamlit\n",
    "print(stream_lit_processes)\n",
    "for proc_id in stream_lit_processes:\n",
    "  int_proc_id = int(proc_id)\n",
    "  !kill -15 {int_proc_id}\n",
    "  !echo -15 {int_proc_id}\n"
   ],
   "execution_count": 9,
   "outputs": [
    {
     "output_type": "stream",
     "text": [
      "['281']\n",
      "-15 281\n"
     ],
     "name": "stdout"
    }
   ]
  }
 ]
}